{
  "nbformat": 4,
  "nbformat_minor": 0,
  "metadata": {
    "colab": {
      "provenance": []
    },
    "kernelspec": {
      "name": "python3",
      "display_name": "Python 3"
    },
    "language_info": {
      "name": "python"
    }
  },
  "cells": [
    {
      "cell_type": "code",
      "source": [
        "from google.colab import drive\n",
        "drive.mount('/content/drive')"
      ],
      "metadata": {
        "colab": {
          "base_uri": "https://localhost:8080/"
        },
        "id": "ik6OyUnmbOW6",
        "outputId": "ac9d1032-422c-42cf-8f6c-721f4947000c"
      },
      "execution_count": 2,
      "outputs": [
        {
          "output_type": "stream",
          "name": "stdout",
          "text": [
            "Mounted at /content/drive\n"
          ]
        }
      ]
    },
    {
      "cell_type": "code",
      "source": [
        "cd /content/drive/My Drive/Colab Notebooks/Data"
      ],
      "metadata": {
        "colab": {
          "base_uri": "https://localhost:8080/"
        },
        "id": "NHaapyCqbcmx",
        "outputId": "257d8d6d-3e4d-427f-ed0e-4944e475325d"
      },
      "execution_count": 3,
      "outputs": [
        {
          "output_type": "stream",
          "name": "stdout",
          "text": [
            "/content/drive/My Drive/Colab Notebooks/Data\n"
          ]
        }
      ]
    },
    {
      "cell_type": "code",
      "source": [
        "# Import necessary libraries\n",
        "import pandas as pd\n",
        "import numpy as np\n",
        "from sklearn.model_selection import train_test_split, GridSearchCV\n",
        "from sklearn.preprocessing import LabelEncoder, MinMaxScaler\n",
        "from sklearn.linear_model import LogisticRegression\n",
        "from sklearn.metrics import accuracy_score, confusion_matrix"
      ],
      "metadata": {
        "id": "-Kbp6rFdbeT_"
      },
      "execution_count": 4,
      "outputs": []
    },
    {
      "cell_type": "code",
      "source": [
        "# Load dataset\n",
        "cc_apps = pd.read_csv('cc_approvals.data', header=None)"
      ],
      "metadata": {
        "id": "Jpjn0hSlbeOl"
      },
      "execution_count": 5,
      "outputs": []
    },
    {
      "cell_type": "code",
      "source": [
        "# 1. Missing Value Imputation Replace '?' with NaN\n",
        "cc_apps = cc_apps.replace('?', np.nan)"
      ],
      "metadata": {
        "id": "RONm7NxCbjQf"
      },
      "execution_count": 6,
      "outputs": []
    },
    {
      "cell_type": "code",
      "source": [
        "# 2. Feature Engineering"
      ],
      "metadata": {
        "id": "KmUAJxazb4E-"
      },
      "execution_count": 11,
      "outputs": []
    },
    {
      "cell_type": "code",
      "source": [
        "# Impute numerical features with the median (robust to outliers)\n",
        "for col in cc_apps.columns:\n",
        "    if cc_apps[col].dtype != 'object':\n",
        "        cc_apps[col] = cc_apps[col].fillna(cc_apps[col].median())"
      ],
      "metadata": {
        "id": "vALBCmnHbjLf"
      },
      "execution_count": 7,
      "outputs": []
    },
    {
      "cell_type": "code",
      "source": [
        "# Impute categorical features with the most frequent value\n",
        "for col in cc_apps.columns:\n",
        "    if cc_apps[col].dtype == 'object':\n",
        "        cc_apps[col] = cc_apps[col].fillna(cc_apps[col].mode()[0])"
      ],
      "metadata": {
        "id": "3l8dBOHCbjHI"
      },
      "execution_count": 8,
      "outputs": []
    },
    {
      "cell_type": "code",
      "source": [
        "# 3. Label Encoding\n",
        "le = LabelEncoder()\n",
        "for col in cc_apps.columns:\n",
        "    if cc_apps[col].dtype == 'object':\n",
        "        cc_apps[col] = le.fit_transform(cc_apps[col])"
      ],
      "metadata": {
        "id": "Hy-iip6ZbjBy"
      },
      "execution_count": 9,
      "outputs": []
    },
    {
      "cell_type": "code",
      "source": [
        "# 4. Feature Scaling\n",
        "scaler = MinMaxScaler(feature_range=(0, 1))\n",
        "cc_apps = scaler.fit_transform(cc_apps)  # Scale all features"
      ],
      "metadata": {
        "id": "4xy8LiZbcAL5"
      },
      "execution_count": 12,
      "outputs": []
    },
    {
      "cell_type": "code",
      "source": [
        "# 5. Data Splitting\n",
        "X = cc_apps[:, :-1]  # All columns except the last (target)\n",
        "y = cc_apps[:, -1]   # The last column (target)\n",
        "X_train, X_test, y_train, y_test = train_test_split(X, y, test_size=0.33, random_state=42)"
      ],
      "metadata": {
        "id": "-OVrrhbocEQ3"
      },
      "execution_count": 13,
      "outputs": []
    },
    {
      "cell_type": "code",
      "source": [
        "# 6. Model Selection and Hyperparameter Tuning\n",
        "\n",
        "# Option 1: Logistic Regression with GridSearchCV\n",
        "logreg = LogisticRegression()\n",
        "param_grid = {'C': [0.01, 0.1, 1, 10, 100], 'penalty': ['l1', 'l2']}  # Expanded grid\n",
        "grid_model = GridSearchCV(logreg, param_grid, cv=5, scoring='accuracy')\n",
        "grid_model.fit(X_train, y_train)\n",
        "y_pred = grid_model.predict(X_test)"
      ],
      "metadata": {
        "colab": {
          "base_uri": "https://localhost:8080/"
        },
        "id": "Q7Ekp1YjcGkW",
        "outputId": "5c7345d4-8214-496e-c0f0-b78b4972e2f7"
      },
      "execution_count": 26,
      "outputs": [
        {
          "output_type": "stream",
          "name": "stderr",
          "text": [
            "/usr/local/lib/python3.10/dist-packages/sklearn/model_selection/_validation.py:528: FitFailedWarning: \n",
            "25 fits failed out of a total of 50.\n",
            "The score on these train-test partitions for these parameters will be set to nan.\n",
            "If these failures are not expected, you can try to debug them by setting error_score='raise'.\n",
            "\n",
            "Below are more details about the failures:\n",
            "--------------------------------------------------------------------------------\n",
            "25 fits failed with the following error:\n",
            "Traceback (most recent call last):\n",
            "  File \"/usr/local/lib/python3.10/dist-packages/sklearn/model_selection/_validation.py\", line 866, in _fit_and_score\n",
            "    estimator.fit(X_train, y_train, **fit_params)\n",
            "  File \"/usr/local/lib/python3.10/dist-packages/sklearn/base.py\", line 1389, in wrapper\n",
            "    return fit_method(estimator, *args, **kwargs)\n",
            "  File \"/usr/local/lib/python3.10/dist-packages/sklearn/linear_model/_logistic.py\", line 1193, in fit\n",
            "    solver = _check_solver(self.solver, self.penalty, self.dual)\n",
            "  File \"/usr/local/lib/python3.10/dist-packages/sklearn/linear_model/_logistic.py\", line 63, in _check_solver\n",
            "    raise ValueError(\n",
            "ValueError: Solver lbfgs supports only 'l2' or None penalties, got l1 penalty.\n",
            "\n",
            "  warnings.warn(some_fits_failed_message, FitFailedWarning)\n",
            "/usr/local/lib/python3.10/dist-packages/sklearn/model_selection/_search.py:1107: UserWarning: One or more of the test scores are non-finite: [       nan 0.83338008        nan 0.86365124        nan 0.8571295\n",
            "        nan 0.85715288        nan 0.85715288]\n",
            "  warnings.warn(\n"
          ]
        }
      ]
    },
    {
      "cell_type": "code",
      "source": [
        "# 7. Evaluation\n",
        "print(\"Accuracy:\", accuracy_score(y_test, y_pred))\n",
        "print(\"Confusion Matrix:\\n\", confusion_matrix(y_test, y_pred))"
      ],
      "metadata": {
        "colab": {
          "base_uri": "https://localhost:8080/"
        },
        "id": "vcqKK7WLchi-",
        "outputId": "ada22866-1fc6-4258-e0c5-d293921d478e"
      },
      "execution_count": 27,
      "outputs": [
        {
          "output_type": "stream",
          "name": "stdout",
          "text": [
            "Accuracy: 0.8421052631578947\n",
            "Confusion Matrix:\n",
            " [[93 10]\n",
            " [26 99]]\n"
          ]
        }
      ]
    },
    {
      "cell_type": "code",
      "source": [
        "# Print the best parameters found by GridSearchCV\n",
        "print(\"Best parameters:\", grid_model.best_params_)\n"
      ],
      "metadata": {
        "colab": {
          "base_uri": "https://localhost:8080/"
        },
        "id": "6Hkl4g-tckdV",
        "outputId": "5b783f2e-057d-4cee-9ac2-01993ad6db77"
      },
      "execution_count": 28,
      "outputs": [
        {
          "output_type": "stream",
          "name": "stdout",
          "text": [
            "Best parameters: {'C': 0.1, 'penalty': 'l2'}\n"
          ]
        }
      ]
    },
    {
      "cell_type": "code",
      "source": [
        "#Option 2: RandomForestClassifier (Alternative Model)\n",
        "from sklearn.ensemble import RandomForestClassifier\n",
        "rf_classifier = RandomForestClassifier(random_state=42)\n",
        "param_grid_rf = {'n_estimators': [100, 200, 300], 'max_depth': [None, 5, 10]}\n",
        "grid_model_rf = GridSearchCV(rf_classifier, param_grid_rf, cv=5, scoring='accuracy')\n",
        "grid_model_rf.fit(X_train, y_train)\n",
        "y_pred = grid_model_rf.predict(X_test)"
      ],
      "metadata": {
        "id": "_ULCaISEcxF4"
      },
      "execution_count": 29,
      "outputs": []
    },
    {
      "cell_type": "code",
      "source": [
        "#  Evaluation\n",
        "print(\"Accuracy:\", accuracy_score(y_test, y_pred))\n",
        "print(\"Confusion Matrix:\\n\", confusion_matrix(y_test, y_pred))"
      ],
      "metadata": {
        "colab": {
          "base_uri": "https://localhost:8080/"
        },
        "id": "e07R72Cjc7aH",
        "outputId": "ce9f774a-d9bd-4cde-aca6-9b5c38ad1c82"
      },
      "execution_count": 30,
      "outputs": [
        {
          "output_type": "stream",
          "name": "stdout",
          "text": [
            "Accuracy: 0.8596491228070176\n",
            "Confusion Matrix:\n",
            " [[ 87  16]\n",
            " [ 16 109]]\n"
          ]
        }
      ]
    },
    {
      "cell_type": "code",
      "source": [
        "print(\"Best parameters:\", grid_model_rf.best_params_) # For RandomForestClassifier"
      ],
      "metadata": {
        "colab": {
          "base_uri": "https://localhost:8080/"
        },
        "id": "wbMwiTd5cnLB",
        "outputId": "f4720ed4-5e4e-42c2-8ea5-d4a5dee37536"
      },
      "execution_count": 31,
      "outputs": [
        {
          "output_type": "stream",
          "name": "stdout",
          "text": [
            "Best parameters: {'max_depth': 10, 'n_estimators': 200}\n"
          ]
        }
      ]
    },
    {
      "cell_type": "code",
      "source": [],
      "metadata": {
        "id": "5IepX--EcqiZ"
      },
      "execution_count": null,
      "outputs": []
    }
  ]
}